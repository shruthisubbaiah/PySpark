{
 "cells": [
  {
   "cell_type": "code",
   "execution_count": 1,
   "metadata": {
    "collapsed": true
   },
   "outputs": [],
   "source": [
    "from pyspark import SparkContext"
   ]
  },
  {
   "cell_type": "code",
   "execution_count": 2,
   "metadata": {
    "collapsed": true
   },
   "outputs": [],
   "source": [
    "sc = SparkContext('local','insurance')  "
   ]
  },
  {
   "cell_type": "code",
   "execution_count": 9,
   "metadata": {
    "collapsed": true
   },
   "outputs": [],
   "source": [
    "from pyspark.sql import SQLContext\n",
    "sql_c=SQLContext(sc)"
   ]
  },
  {
   "cell_type": "code",
   "execution_count": 4,
   "metadata": {
    "collapsed": true
   },
   "outputs": [],
   "source": [
    "import pandas as pd"
   ]
  },
  {
   "cell_type": "markdown",
   "metadata": {},
   "source": [
    "#### RDD- Resilient Distributed Dataset\n",
    "An RDD is a distributed collection of elements.    \n",
    "RDDs are immutable.   \n",
    "Spark automatically distributes the data contained in RDDs across the cluster and parallelizes the operations performed on them.\n"
   ]
  },
  {
   "cell_type": "markdown",
   "metadata": {},
   "source": [
    "#### Creating RDDs\n",
    "1. Parallelize a collection\n",
    "2. Referencing a dataset"
   ]
  },
  {
   "cell_type": "markdown",
   "metadata": {},
   "source": [
    "### Parallelize a collection"
   ]
  },
  {
   "cell_type": "code",
   "execution_count": 5,
   "metadata": {
    "collapsed": true
   },
   "outputs": [],
   "source": [
    "numbers = range(100)\n",
    "data_rdd = sc.parallelize(numbers)"
   ]
  },
  {
   "cell_type": "code",
   "execution_count": 7,
   "metadata": {},
   "outputs": [
    {
     "data": {
      "text/plain": [
       "[0, 1, 2, 3, 4, 5, 6, 7, 8, 9]"
      ]
     },
     "execution_count": 7,
     "metadata": {},
     "output_type": "execute_result"
    }
   ],
   "source": [
    "# Display the first 10 elements in the RDD\n",
    "data_rdd.take(10)"
   ]
  },
  {
   "cell_type": "markdown",
   "metadata": {},
   "source": [
    "### Referencing a dataset"
   ]
  },
  {
   "cell_type": "code",
   "execution_count": 12,
   "metadata": {},
   "outputs": [],
   "source": [
    "df = sql_c.read.csv('insurance.csv').rdd"
   ]
  },
  {
   "cell_type": "markdown",
   "metadata": {},
   "source": [
    "### Transformations\n",
    "A Transformation is a function that takes an RDD as input and produces another RDD as output.   \n",
    "They are not executed immediately- they are executed when an Action is called on that RDD.\n"
   ]
  },
  {
   "cell_type": "markdown",
   "metadata": {},
   "source": [
    "#### Map:\n",
    "The map() method is applied to every element of the RDD"
   ]
  },
  {
   "cell_type": "code",
   "execution_count": 15,
   "metadata": {},
   "outputs": [
    {
     "data": {
      "text/plain": [
       "[(u'sex', u'bmi'),\n",
       " (u'female', u'27.9'),\n",
       " (u'male', u'33.77'),\n",
       " (u'male', u'33'),\n",
       " (u'male', u'22.705')]"
      ]
     },
     "execution_count": 15,
     "metadata": {},
     "output_type": "execute_result"
    }
   ],
   "source": [
    "# Copy columns 1 and 2 into the new RDD\n",
    "data_map=df.map(lambda row: (row[1],row[2]))\n",
    "data_map.take(5)"
   ]
  },
  {
   "cell_type": "markdown",
   "metadata": {},
   "source": [
    "#### Filter:\n",
    "The filter() method is used to select elements from the dataset that fit a specified criteria.   "
   ]
  },
  {
   "cell_type": "code",
   "execution_count": 16,
   "metadata": {},
   "outputs": [
    {
     "data": {
      "text/plain": [
       "[Row(_c0=u'19', _c1=u'female', _c2=u'27.9', _c3=u'0', _c4=u'yes', _c5=u'southwest', _c6=u'16884.924'),\n",
       " Row(_c0=u'31', _c1=u'female', _c2=u'25.74', _c3=u'0', _c4=u'no', _c5=u'southeast', _c6=u'3756.6216'),\n",
       " Row(_c0=u'46', _c1=u'female', _c2=u'33.44', _c3=u'1', _c4=u'no', _c5=u'southeast', _c6=u'8240.5896'),\n",
       " Row(_c0=u'37', _c1=u'female', _c2=u'27.74', _c3=u'3', _c4=u'no', _c5=u'northwest', _c6=u'7281.5056'),\n",
       " Row(_c0=u'60', _c1=u'female', _c2=u'25.84', _c3=u'0', _c4=u'no', _c5=u'northwest', _c6=u'28923.13692'),\n",
       " Row(_c0=u'62', _c1=u'female', _c2=u'26.29', _c3=u'0', _c4=u'yes', _c5=u'southeast', _c6=u'27808.7251'),\n",
       " Row(_c0=u'56', _c1=u'female', _c2=u'39.82', _c3=u'0', _c4=u'no', _c5=u'southeast', _c6=u'11090.7178'),\n",
       " Row(_c0=u'52', _c1=u'female', _c2=u'30.78', _c3=u'1', _c4=u'no', _c5=u'northeast', _c6=u'10797.3362'),\n",
       " Row(_c0=u'60', _c1=u'female', _c2=u'36.005', _c3=u'0', _c4=u'no', _c5=u'northeast', _c6=u'13228.84695'),\n",
       " Row(_c0=u'30', _c1=u'female', _c2=u'32.4', _c3=u'1', _c4=u'no', _c5=u'southwest', _c6=u'4149.736')]"
      ]
     },
     "execution_count": 16,
     "metadata": {},
     "output_type": "execute_result"
    }
   ],
   "source": [
    "# Copy only the Female customers into the new RDD\n",
    "data_filtered=df.filter(lambda row:row[1]=='female')\n",
    "data_filtered.take(10)"
   ]
  },
  {
   "cell_type": "markdown",
   "metadata": {},
   "source": [
    "#### Distinct:\n",
    "It returns a new dataset that contains the distinct elements of the source dataset. It removes duplicate data."
   ]
  },
  {
   "cell_type": "code",
   "execution_count": 19,
   "metadata": {},
   "outputs": [],
   "source": [
    "data_distinct=df.distinct()"
   ]
  },
  {
   "cell_type": "markdown",
   "metadata": {},
   "source": [
    "### Actions\n",
    "Methods that produce non-RDD values like a result set, value, file, etc"
   ]
  },
  {
   "cell_type": "markdown",
   "metadata": {},
   "source": [
    "#### Take:\n",
    "Returns n number of rows from the dataset"
   ]
  },
  {
   "cell_type": "code",
   "execution_count": 40,
   "metadata": {},
   "outputs": [
    {
     "data": {
      "text/plain": [
       "[(u'sex', u'bmi'),\n",
       " (u'female', u'27.9'),\n",
       " (u'male', u'33.77'),\n",
       " (u'male', u'33'),\n",
       " (u'male', u'22.705'),\n",
       " (u'male', u'28.88'),\n",
       " (u'female', u'25.74'),\n",
       " (u'female', u'33.44'),\n",
       " (u'female', u'27.74'),\n",
       " (u'male', u'29.83')]"
      ]
     },
     "execution_count": 40,
     "metadata": {},
     "output_type": "execute_result"
    }
   ],
   "source": [
    "data_map.take(10)"
   ]
  },
  {
   "cell_type": "markdown",
   "metadata": {},
   "source": [
    "#### Collect:\n",
    "Returns all the elements in the dataset"
   ]
  },
  {
   "cell_type": "code",
   "execution_count": null,
   "metadata": {
    "collapsed": true
   },
   "outputs": [],
   "source": [
    "data_map.collect()"
   ]
  },
  {
   "cell_type": "markdown",
   "metadata": {},
   "source": [
    "#### Reduce:\n",
    "Reduces the elements of an RDD using a specified method. It runs on each partition and returns to the DRIVER node, where it runs again."
   ]
  },
  {
   "cell_type": "code",
   "execution_count": null,
   "metadata": {
    "collapsed": true
   },
   "outputs": [],
   "source": [
    "print(data_rdd.map(lambda row:row[0]).reduce(lambda x,y:x+y))"
   ]
  },
  {
   "cell_type": "markdown",
   "metadata": {},
   "source": [
    "#### Count:\n",
    "Returns the number of elements in an RDD\n"
   ]
  },
  {
   "cell_type": "code",
   "execution_count": null,
   "metadata": {
    "collapsed": true
   },
   "outputs": [],
   "source": [
    "print data_rdd.count()"
   ]
  },
  {
   "cell_type": "code",
   "execution_count": null,
   "metadata": {
    "collapsed": true
   },
   "outputs": [],
   "source": []
  }
 ],
 "metadata": {
  "kernelspec": {
   "display_name": "Python 2",
   "language": "python",
   "name": "python2"
  },
  "language_info": {
   "codemirror_mode": {
    "name": "ipython",
    "version": 2
   },
   "file_extension": ".py",
   "mimetype": "text/x-python",
   "name": "python",
   "nbconvert_exporter": "python",
   "pygments_lexer": "ipython2",
   "version": "2.7.14"
  }
 },
 "nbformat": 4,
 "nbformat_minor": 2
}
